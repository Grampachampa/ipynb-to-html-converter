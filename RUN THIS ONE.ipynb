{
 "cells": [
  {
   "cell_type": "markdown",
   "metadata": {},
   "source": [
    "# How to Run?\n",
    "\n",
    "Easy! Run the cells one by one, and read any instructions as you go along.\n",
    "All you have to do is ensure that:\n",
    "a) The number of students matches up with the number of students that the script finds.\n",
    "b) Your E-Mail and Message details are filled out in the relevant cell."
   ]
  },
  {
   "cell_type": "markdown",
   "metadata": {},
   "source": [
    "### Prerequisites\n",
    "You'll need nbconvert if you don't have it."
   ]
  },
  {
   "cell_type": "code",
   "execution_count": null,
   "metadata": {},
   "outputs": [],
   "source": [
    "! pip install nbconvert\n"
   ]
  },
  {
   "cell_type": "markdown",
   "metadata": {},
   "source": [
    "### Imports\n",
    "All of these outside nbconvert/nbformat should come with your installation of python. If not, it's a good idea to pip install them. "
   ]
  },
  {
   "cell_type": "code",
   "execution_count": 5,
   "metadata": {},
   "outputs": [],
   "source": [
    "import os\n",
    "import re\n",
    "import codecs\n",
    "import smtplib\n",
    "import nbformat\n",
    "from nbconvert import HTMLExporter\n",
    "from email import encoders\n",
    "from email.mime.base import MIMEBase\n",
    "from email.mime.text import MIMEText\n",
    "from email.mime.multipart import MIMEMultipart"
   ]
  },
  {
   "cell_type": "markdown",
   "metadata": {},
   "source": [
    "# Code\n",
    "Student Class"
   ]
  },
  {
   "cell_type": "code",
   "execution_count": 6,
   "metadata": {},
   "outputs": [],
   "source": [
    "class Student:\n",
    "    \"\"\"A class to represent a student.\n",
    "    \n",
    "    Attributes:\n",
    "    vunet_id (str): The vunet id of the student.\n",
    "    ipynb_file (str): The path to the student's ipynb file.\n",
    "    converted_file (str): The path to the student's converted file.\n",
    "    parent_folder (str): The parent folder of the student's ipynb file.\n",
    "    email_address (str): The email address of the student.\n",
    "    \"\"\"\n",
    "    def __init__(self, vunet_id: str, ipynb_file: str = None, converted_file: str = None) -> None:\n",
    "        \"\"\"Initializes a student object.\n",
    "        \n",
    "        Args:\n",
    "        vunet_id (str): The vunet id of the student.\n",
    "        ipynb_file (str): The path to the student's ipynb file.\n",
    "        converted_file (str): The path to the student's converted file.\n",
    "        \"\"\"\n",
    "        \n",
    "        self.vunet_id = vunet_id\n",
    "        self.ipynb_file = ipynb_file\n",
    "        self.converted_file = converted_file\n",
    "        self.parent_folder = os.path.dirname(self.ipynb_file) if self.ipynb_file else None\n",
    "\n",
    "        # Turns out, you don't need to scavenge the student vu email\n",
    "        # you can just use the vunet id, and it's treated the same\n",
    "        self.email_address = self.vunet_id + \"@student.vu.nl\" if self.vunet_id else None\n",
    "\n",
    "    def __eq__ (self, other) -> bool:\n",
    "        return self.vunet_id == other.vunet_id\n",
    "    \n",
    "    def __repr__(self) -> str:\n",
    "        return self.vunet_id"
   ]
  },
  {
   "cell_type": "markdown",
   "metadata": {},
   "source": [
    "Yes, this is a class without methods. Peak OOP."
   ]
  },
  {
   "cell_type": "code",
   "execution_count": 16,
   "metadata": {},
   "outputs": [],
   "source": [
    "class TA:\n",
    "    \"\"\"Defines info stored about the person sending the emails.\n",
    "    \n",
    "    Attributes:\n",
    "    email_address (str): The email address of the TA.\n",
    "    password (str): The password of the TA.\n",
    "    assessment (str): The name of the assessment (e.g. \"Midterm Exam\" or \"Assignment 1\").\n",
    "    \"\"\"\n",
    "    def __init__(self, email_address: str, password: str, assessment: str):\n",
    "        assert(email_address != \"EMAIL\" and password != \"PASSWORD\"), \"Dude... really? Fill in the email and password.\"\n",
    "        assert(assessment != \"ASSIGNMENT NR\"), \"Fill in the assessment name. (ASSIGNMENT_NR)\"\n",
    "        self.email_address = email_address\n",
    "        self.password = password\n",
    "        self.assessment = assessment"
   ]
  },
  {
   "cell_type": "markdown",
   "metadata": {},
   "source": [
    "Main workhorse code. I've tried to actually make it readable in this iteration, but most methods still need docstrings and all that jazz."
   ]
  },
  {
   "cell_type": "code",
   "execution_count": null,
   "metadata": {},
   "outputs": [],
   "source": [
    "class Converter:\n",
    "    \"\"\"A class to convert ipynb files to HTML files and send them to students.\n",
    "\n",
    "    ASSUMPTIONS:\n",
    "    - The vunet id is the first occurence of a 3-letter word followed by a 3-digit number.\n",
    "    - The vunet id is unique.\n",
    "    - All files are stored in either:\n",
    "        - The parent directory of the current working directory (i.e. the folder this file is in)\n",
    "        - A subdirectory the parent directory that is not this folder.\n",
    "    \n",
    "    Attributes:\n",
    "    vunet_finding_mode (str): The mode used to find vunet ids. Currently only \"SCRAPE\" is supported.\n",
    "    dir_path (str): The path to the directory containing the ipynb files. if not specified, the parent dir of the current working directory is used.\n",
    "    valid_students (list[Student]): A list of students with valid vunet ids.\n",
    "    invalid_students (list[Student]): A list of students with invalid vunet ids.\n",
    "    \"\"\"\n",
    "    \n",
    "    # Constants\n",
    "    BANNED_FOLDERS = [\"__pycache__\", \".ipynb_checkpoints\", \"ipynb-to-html-converter\"]\n",
    "    BANNED_VUNET_IDS = [\"abc123\"]  \n",
    "    \n",
    "    def __init__(self, id_mode: str, dir_path: str = os.path.dirname(os.getcwd())):\n",
    "        \"\"\"Initializes a Converter object.\n",
    "\n",
    "        Args:\n",
    "            id_mode (str): The mode used to find vunet ids. Currently only \"SCRAPE\" is supported.\n",
    "            dir_path (str, optional): Dir containing the files. Defaults to os.path.dirname(os.getcwd()).\n",
    "        \"\"\"\n",
    "        assert id_mode in [\"SCRAPE\"]\n",
    "        assert os.path.isdir(dir_path)\n",
    "        \n",
    "        self.vunet_finding_mode = id_mode\n",
    "        self.dir_path = dir_path\n",
    "        self.valid_students: list[Student] = []\n",
    "        self.invalid_students: list[Student] = []\n",
    "        \n",
    "    def parse_files(self) -> None:\n",
    "        \"\"\"Parses the files in the directory to find vunet ids. Modifies the valid_students and invalid_students lists.\n",
    "        \n",
    "        3 steps:\n",
    "        1. Clear the students lists.\n",
    "        2. Get the list of directories to parse (i.e. parent of this folder, and all direct children of it, excluding this folder).\n",
    "        3. If any of these has an ipynb file, a student is added for said file. \n",
    "            If it has a valid VUnet, the student gets added to valid_students.      (Student object with vunet_id, ipynb_file, email, and parent_folder)\n",
    "            If it has an invalid VUnet, the student gets added to invalid_students. (Student object with ipynb_file and parent_folder)\n",
    "        \"\"\"\n",
    "        self.__clear_students()\n",
    "        dirs = self.__get_dirs_to_parse()\n",
    "        self.__find_vunet_ids(dirs)\n",
    "        \n",
    "    def convert_files(self) -> None:\n",
    "        \"\"\"For each student, converts the ipynb file to an HTML file. Modifies the converted_file attribute of each student.\"\"\"\n",
    "        all_students = self.valid_students + self.invalid_students\n",
    "        total_students = len(all_students)\n",
    "        print(f\"Converting {total_students} files to HTML\")\n",
    "        for i, student in enumerate(all_students):\n",
    "            self.__convert_ipynb_to_html(student)\n",
    "            self.__visualize_progress(i+1, total_students)\n",
    "    \n",
    "    def send_emails(self, ta: TA, message: str, test_mode: bool = False, go_to_vunet_id: str = None) -> None:\n",
    "        \"\"\"Sends emails to the students with the converted files attached. Modifies nothing.\"\"\"\n",
    "        for i, student in enumerate(self.valid_students):\n",
    "            if go_to_vunet_id and student.vunet_id != go_to_vunet_id:\n",
    "                continue\n",
    "            self.__send_email(ta, message, student, test_mode)\n",
    "            \n",
    "            if test_mode:\n",
    "                break\n",
    "            \n",
    "            self.__visualize_progress(i+1, len(self.valid_students))\n",
    "    \n",
    "    def __send_email(self, ta: TA, message: str, student: Student, test_mode: bool = False):\n",
    "        to_address = student.email_address if not test_mode else ta.email_address\n",
    "        mail = MIMEMultipart()\n",
    "\n",
    "        mail[\"From\"] = ta.email_address\n",
    "        mail[\"To\"] = to_address\n",
    "        mail[\"Cc\"] = ta.email_address\n",
    "        \n",
    "        mail[\"Subject\"] = f'{ta.assessment} Feedback and Results'\n",
    "        mail.attach(MIMEText(message, 'plain'))\n",
    "        \n",
    "        with open(student.converted_file, 'rb') as f:\n",
    "            attachment = f.read()\n",
    "            part = MIMEBase('application', \"octet-stream\")\n",
    "            part.set_payload(attachment)\n",
    "            encoders.encode_base64(part)\n",
    "            part.add_header('Content-Disposition', \"attachment; filename= %s\" % os.path.basename(student.converted_file))\n",
    "            mail.attach(part)\n",
    "        \n",
    "        server = smtplib.SMTP(\"mails.vu.nl\", port=587)\n",
    "        server.ehlo()\n",
    "        server.starttls()\n",
    "        server.ehlo()\n",
    "        server.login(ta.email_address, ta.password)\n",
    "        server.send_message(mail)\n",
    "        server.quit()\n",
    "    \n",
    "    def __clear_students(self):\n",
    "        self.valid_students = []\n",
    "        self.invalid_students = []\n",
    "    \n",
    "    def __convert_ipynb_to_html(self, student: Student):\n",
    "        if self.__check_if_notebook_exists(student):\n",
    "            return\n",
    "        \n",
    "        with open(student.ipynb_file) as f:\n",
    "            nb = nbformat.read(f, as_version=4)\n",
    "\n",
    "        # Convert the notebook to HTML\n",
    "        html_exporter = HTMLExporter()\n",
    "        body, _ = html_exporter.from_notebook_node(nb)\n",
    "\n",
    "        # Write the HTML to a file\n",
    "        html_file_name = student.vunet_id + \".html\" if student.vunet_id else self.__get_expected_html_file_path(student)\n",
    "        html_file_path = os.path.join(student.parent_folder, html_file_name)\n",
    "        with open(html_file_path, 'w') as f:\n",
    "            f.write(body)\n",
    "    \n",
    "    def __check_if_notebook_exists(self, student: Student) -> bool:\n",
    "        expected_file_path = self.__get_expected_html_file_path(student)\n",
    "        if student.vunet_id:\n",
    "            ex_dir = os.path.dirname(student.ipynb_file)\n",
    "            expected_filename = student.vunet_id + \".html\"\n",
    "            expected_file_path = os.path.join(ex_dir, expected_filename)\n",
    "        \n",
    "        if os.path.exists(expected_file_path):\n",
    "            student.converted_file = expected_file_path\n",
    "            return True\n",
    "        return False\n",
    "            \n",
    "    def __get_expected_html_file_path(self, student: Student):\n",
    "        return (student.ipynb_file.removesuffix(\".ipynb\")) + \".html\"\n",
    "            \n",
    "        \n",
    "    def __find_vunet_ids(self, dirs: list[str]):\n",
    "\n",
    "        if self.vunet_finding_mode == \"SCRAPE\":\n",
    "            self.__find_vunet_ids_by_scrape(dirs)\n",
    "\n",
    "    def __find_vunet_ids_by_scrape(self, dirs: list[str]):\n",
    "        for subDir in dirs:\n",
    "            self.__scrape_folder(subDir)\n",
    "    \n",
    "    def __scrape_folder(self, folder: str):\n",
    "        for file in os.listdir(folder):\n",
    "            if self.__is_valid_target_file(file):\n",
    "                filepath = os.path.join(folder, file)\n",
    "                self.__scrape_vunet_id_from_file(filepath)   \n",
    "                \n",
    "    def __is_valid_target_file(self, file: str):\n",
    "        return file.endswith(\".ipynb\")\n",
    "    \n",
    "    def __scrape_vunet_id_from_file(self, file: str):\n",
    "        f = codecs.open(file.strip('\"'), 'r')\n",
    "        for line in f:\n",
    "            if \"VUnet\" in line:\n",
    "                extracted_id = re.search(r'\\b[a-zA-Z]{3}\\d{3}\\b', line)\n",
    "                if extracted_id is not None:\n",
    "                    vunet_id = extracted_id.group().lower()\n",
    "                    if vunet_id in self.BANNED_VUNET_IDS:\n",
    "                        continue\n",
    "                    \n",
    "                    student = Student(vunet_id = vunet_id, ipynb_file=file)\n",
    "                    self.valid_students.append(student)\n",
    "                    break\n",
    "        else:\n",
    "            student = Student(None, file)\n",
    "            self.invalid_students.append(student)\n",
    "                    \n",
    "    def __visualize_progress(self, current: int, total: int):\n",
    "        print(f\"Progress: {current}/{total}\", end=\"\\r\", flush=True)\n",
    "        \n",
    "    def __get_dirs_to_parse(self):\n",
    "        child_dirs : list[str] = [folder for folder in os.listdir(self.dir_path) if os.path.isdir(os.path.join(self.dir_path, folder))]\n",
    "        dirs_to_parse = [os.path.join(self.dir_path, folder) for folder in child_dirs if folder not in self.BANNED_FOLDERS]\n",
    "        dirs_to_parse = [self.dir_path] + dirs_to_parse\n",
    "        return dirs_to_parse\n",
    "        \n"
   ]
  },
  {
   "cell_type": "markdown",
   "metadata": {},
   "source": [
    "## Start Reading the Instructions Now\n",
    "\n",
    "### Parsing all students\n",
    "Make sure the total number of students is correct"
   ]
  },
  {
   "cell_type": "code",
   "execution_count": 9,
   "metadata": {},
   "outputs": [
    {
     "name": "stdout",
     "output_type": "stream",
     "text": [
      "Found 393 files, of which:\n",
      "380 are valid.\n",
      "13 did not change their VUnet ID or gave an invalid one.\n"
     ]
    }
   ],
   "source": [
    "c = Converter(id_mode = \"SCRAPE\")\n",
    "c.parse_files()\n",
    "print(f\"Found {len(c.valid_students) + len(c.invalid_students)} files, of which:\")\n",
    "print(f\"{len(c.valid_students)} are valid.\")\n",
    "print(f\"{len(c.invalid_students)} did not change their VUnet ID or gave an invalid one.\")"
   ]
  },
  {
   "cell_type": "markdown",
   "metadata": {},
   "source": [
    "### Convert .ipynb Files to .html\n",
    "You don't need to do much here other than run the file, but this will take a while"
   ]
  },
  {
   "cell_type": "code",
   "execution_count": 12,
   "metadata": {},
   "outputs": [
    {
     "name": "stdout",
     "output_type": "stream",
     "text": [
      "Converting 393 files to HTML\n",
      "Progress: 174/393\r"
     ]
    },
    {
     "ename": "KeyboardInterrupt",
     "evalue": "",
     "output_type": "error",
     "traceback": [
      "\u001b[1;31m---------------------------------------------------------------------------\u001b[0m",
      "\u001b[1;31mKeyboardInterrupt\u001b[0m                         Traceback (most recent call last)",
      "Cell \u001b[1;32mIn[12], line 1\u001b[0m\n\u001b[1;32m----> 1\u001b[0m \u001b[43mc\u001b[49m\u001b[38;5;241;43m.\u001b[39;49m\u001b[43mconvert_files\u001b[49m\u001b[43m(\u001b[49m\u001b[43m)\u001b[49m\n",
      "Cell \u001b[1;32mIn[8], line 57\u001b[0m, in \u001b[0;36mConverter.convert_files\u001b[1;34m(self)\u001b[0m\n\u001b[0;32m     55\u001b[0m \u001b[38;5;28mprint\u001b[39m(\u001b[38;5;124mf\u001b[39m\u001b[38;5;124m\"\u001b[39m\u001b[38;5;124mConverting \u001b[39m\u001b[38;5;132;01m{\u001b[39;00mtotal_students\u001b[38;5;132;01m}\u001b[39;00m\u001b[38;5;124m files to HTML\u001b[39m\u001b[38;5;124m\"\u001b[39m)\n\u001b[0;32m     56\u001b[0m \u001b[38;5;28;01mfor\u001b[39;00m i, student \u001b[38;5;129;01min\u001b[39;00m \u001b[38;5;28menumerate\u001b[39m(all_students):\n\u001b[1;32m---> 57\u001b[0m     \u001b[38;5;28;43mself\u001b[39;49m\u001b[38;5;241;43m.\u001b[39;49m\u001b[43m__convert_ipynb_to_html\u001b[49m\u001b[43m(\u001b[49m\u001b[43mstudent\u001b[49m\u001b[43m)\u001b[49m\n\u001b[0;32m     58\u001b[0m     \u001b[38;5;28mself\u001b[39m\u001b[38;5;241m.\u001b[39m__visualize_progress(i\u001b[38;5;241m+\u001b[39m\u001b[38;5;241m1\u001b[39m, total_students)\n",
      "Cell \u001b[1;32mIn[8], line 112\u001b[0m, in \u001b[0;36mConverter.__convert_ipynb_to_html\u001b[1;34m(self, student)\u001b[0m\n\u001b[0;32m    110\u001b[0m \u001b[38;5;66;03m# Convert the notebook to HTML\u001b[39;00m\n\u001b[0;32m    111\u001b[0m html_exporter \u001b[38;5;241m=\u001b[39m HTMLExporter()\n\u001b[1;32m--> 112\u001b[0m body, _ \u001b[38;5;241m=\u001b[39m \u001b[43mhtml_exporter\u001b[49m\u001b[38;5;241;43m.\u001b[39;49m\u001b[43mfrom_notebook_node\u001b[49m\u001b[43m(\u001b[49m\u001b[43mnb\u001b[49m\u001b[43m)\u001b[49m\n\u001b[0;32m    114\u001b[0m \u001b[38;5;66;03m# Write the HTML to a file\u001b[39;00m\n\u001b[0;32m    115\u001b[0m html_file_name \u001b[38;5;241m=\u001b[39m student\u001b[38;5;241m.\u001b[39mvunet_id \u001b[38;5;241m+\u001b[39m \u001b[38;5;124m\"\u001b[39m\u001b[38;5;124m.html\u001b[39m\u001b[38;5;124m\"\u001b[39m \u001b[38;5;28;01mif\u001b[39;00m student\u001b[38;5;241m.\u001b[39mvunet_id \u001b[38;5;28;01melse\u001b[39;00m \u001b[38;5;28mself\u001b[39m\u001b[38;5;241m.\u001b[39m__get_expected_html_file_path(student)\n",
      "File \u001b[1;32mc:\\Users\\gramp\\anaconda3\\envs\\cuda-env\\lib\\site-packages\\nbconvert\\exporters\\html.py:268\u001b[0m, in \u001b[0;36mHTMLExporter.from_notebook_node\u001b[1;34m(self, nb, resources, **kw)\u001b[0m\n\u001b[0;32m    266\u001b[0m \u001b[38;5;28mself\u001b[39m\u001b[38;5;241m.\u001b[39mregister_filter(\u001b[38;5;124m\"\u001b[39m\u001b[38;5;124mhighlight_code\u001b[39m\u001b[38;5;124m\"\u001b[39m, highlight_code)\n\u001b[0;32m    267\u001b[0m \u001b[38;5;28mself\u001b[39m\u001b[38;5;241m.\u001b[39mregister_filter(\u001b[38;5;124m\"\u001b[39m\u001b[38;5;124mfilter_data_type\u001b[39m\u001b[38;5;124m\"\u001b[39m, filter_data_type)\n\u001b[1;32m--> 268\u001b[0m html, resources \u001b[38;5;241m=\u001b[39m \u001b[38;5;28msuper\u001b[39m()\u001b[38;5;241m.\u001b[39mfrom_notebook_node(nb, resources, \u001b[38;5;241m*\u001b[39m\u001b[38;5;241m*\u001b[39mkw)\n\u001b[0;32m    269\u001b[0m soup \u001b[38;5;241m=\u001b[39m BeautifulSoup(html, features\u001b[38;5;241m=\u001b[39m\u001b[38;5;124m\"\u001b[39m\u001b[38;5;124mhtml.parser\u001b[39m\u001b[38;5;124m\"\u001b[39m)\n\u001b[0;32m    270\u001b[0m \u001b[38;5;66;03m# Add image's alternative text\u001b[39;00m\n",
      "File \u001b[1;32mc:\\Users\\gramp\\anaconda3\\envs\\cuda-env\\lib\\site-packages\\nbconvert\\exporters\\templateexporter.py:424\u001b[0m, in \u001b[0;36mTemplateExporter.from_notebook_node\u001b[1;34m(self, nb, resources, **kw)\u001b[0m\n\u001b[0;32m    410\u001b[0m resources[\u001b[38;5;124m\"\u001b[39m\u001b[38;5;124mglobal_content_filter\u001b[39m\u001b[38;5;124m\"\u001b[39m] \u001b[38;5;241m=\u001b[39m {\n\u001b[0;32m    411\u001b[0m     \u001b[38;5;124m\"\u001b[39m\u001b[38;5;124minclude_code\u001b[39m\u001b[38;5;124m\"\u001b[39m: \u001b[38;5;129;01mnot\u001b[39;00m \u001b[38;5;28mself\u001b[39m\u001b[38;5;241m.\u001b[39mexclude_code_cell,\n\u001b[0;32m    412\u001b[0m     \u001b[38;5;124m\"\u001b[39m\u001b[38;5;124minclude_markdown\u001b[39m\u001b[38;5;124m\"\u001b[39m: \u001b[38;5;129;01mnot\u001b[39;00m \u001b[38;5;28mself\u001b[39m\u001b[38;5;241m.\u001b[39mexclude_markdown,\n\u001b[1;32m   (...)\u001b[0m\n\u001b[0;32m    420\u001b[0m     \u001b[38;5;124m\"\u001b[39m\u001b[38;5;124mno_prompt\u001b[39m\u001b[38;5;124m\"\u001b[39m: \u001b[38;5;28mself\u001b[39m\u001b[38;5;241m.\u001b[39mexclude_input_prompt \u001b[38;5;129;01mand\u001b[39;00m \u001b[38;5;28mself\u001b[39m\u001b[38;5;241m.\u001b[39mexclude_output_prompt,\n\u001b[0;32m    421\u001b[0m }\n\u001b[0;32m    423\u001b[0m \u001b[38;5;66;03m# Top level variables are passed to the template_exporter here.\u001b[39;00m\n\u001b[1;32m--> 424\u001b[0m output \u001b[38;5;241m=\u001b[39m \u001b[38;5;28;43mself\u001b[39;49m\u001b[38;5;241;43m.\u001b[39;49m\u001b[43mtemplate\u001b[49m\u001b[38;5;241;43m.\u001b[39;49m\u001b[43mrender\u001b[49m\u001b[43m(\u001b[49m\u001b[43mnb\u001b[49m\u001b[38;5;241;43m=\u001b[39;49m\u001b[43mnb_copy\u001b[49m\u001b[43m,\u001b[49m\u001b[43m \u001b[49m\u001b[43mresources\u001b[49m\u001b[38;5;241;43m=\u001b[39;49m\u001b[43mresources\u001b[49m\u001b[43m)\u001b[49m\n\u001b[0;32m    425\u001b[0m output \u001b[38;5;241m=\u001b[39m output\u001b[38;5;241m.\u001b[39mlstrip(\u001b[38;5;124m\"\u001b[39m\u001b[38;5;130;01m\\r\u001b[39;00m\u001b[38;5;130;01m\\n\u001b[39;00m\u001b[38;5;124m\"\u001b[39m)\n\u001b[0;32m    426\u001b[0m \u001b[38;5;28;01mreturn\u001b[39;00m output, resources\n",
      "File \u001b[1;32mc:\\Users\\gramp\\anaconda3\\envs\\cuda-env\\lib\\site-packages\\jinja2\\environment.py:1302\u001b[0m, in \u001b[0;36mTemplate.render\u001b[1;34m(self, *args, **kwargs)\u001b[0m\n\u001b[0;32m   1299\u001b[0m ctx \u001b[38;5;241m=\u001b[39m \u001b[38;5;28mself\u001b[39m\u001b[38;5;241m.\u001b[39mnew_context(\u001b[38;5;28mdict\u001b[39m(\u001b[38;5;241m*\u001b[39margs, \u001b[38;5;241m*\u001b[39m\u001b[38;5;241m*\u001b[39mkwargs))\n\u001b[0;32m   1301\u001b[0m \u001b[38;5;28;01mtry\u001b[39;00m:\n\u001b[1;32m-> 1302\u001b[0m     \u001b[38;5;28;01mreturn\u001b[39;00m \u001b[38;5;28;43mself\u001b[39;49m\u001b[38;5;241;43m.\u001b[39;49m\u001b[43menvironment\u001b[49m\u001b[38;5;241;43m.\u001b[39;49m\u001b[43mconcat\u001b[49m\u001b[43m(\u001b[49m\u001b[38;5;28;43mself\u001b[39;49m\u001b[38;5;241;43m.\u001b[39;49m\u001b[43mroot_render_func\u001b[49m\u001b[43m(\u001b[49m\u001b[43mctx\u001b[49m\u001b[43m)\u001b[49m\u001b[43m)\u001b[49m  \u001b[38;5;66;03m# type: ignore\u001b[39;00m\n\u001b[0;32m   1303\u001b[0m \u001b[38;5;28;01mexcept\u001b[39;00m \u001b[38;5;167;01mException\u001b[39;00m:\n\u001b[0;32m   1304\u001b[0m     \u001b[38;5;28mself\u001b[39m\u001b[38;5;241m.\u001b[39menvironment\u001b[38;5;241m.\u001b[39mhandle_exception()\n",
      "File \u001b[1;32mc:\\Users\\gramp\\anaconda3\\envs\\cuda-env\\share\\jupyter\\nbconvert\\templates\\lab\\index.html.j2:34\u001b[0m, in \u001b[0;36mroot\u001b[1;34m(context, missing, environment)\u001b[0m\n\u001b[0;32m     32\u001b[0m   <style type=\"text/css\">\n\u001b[0;32m     33\u001b[0m     {{ css }}\n\u001b[1;32m---> 34\u001b[0m   </style>\n\u001b[0;32m     35\u001b[0m {% endfor %}\n\u001b[0;32m     36\u001b[0m \n",
      "File \u001b[1;32mc:\\Users\\gramp\\anaconda3\\envs\\cuda-env\\share\\jupyter\\nbconvert\\templates\\lab\\base.html.j2:28\u001b[0m, in \u001b[0;36mroot\u001b[1;34m(context, missing, environment)\u001b[0m\n\u001b[0;32m     26\u001b[0m \n\u001b[0;32m     27\u001b[0m {% block input %}\n\u001b[1;32m---> 28\u001b[0m <div class=\"jp-CodeMirrorEditor jp-Editor jp-InputArea-editor\" data-type=\"inline\">\n\u001b[0;32m     29\u001b[0m      <div class=\"cm-editor cm-s-jupyter\">\n\u001b[0;32m     30\u001b[0m {{ cell.source | highlight_code(metadata=cell.metadata) | clean_html }}\n",
      "File \u001b[1;32mc:\\Users\\gramp\\anaconda3\\envs\\cuda-env\\share\\jupyter\\nbconvert\\templates\\base\\display_priority.j2:15\u001b[0m, in \u001b[0;36mroot\u001b[1;34m(context, missing, environment)\u001b[0m\n\u001b[0;32m     13\u001b[0m     {%- endblock -%}\n\u001b[0;32m     14\u001b[0m {%- elif type == 'image/png' -%}\n\u001b[1;32m---> 15\u001b[0m     {%- block data_png -%}\n\u001b[0;32m     16\u001b[0m     {%- endblock -%}\n\u001b[0;32m     17\u001b[0m {%- elif type == 'text/html' -%}\n",
      "File \u001b[1;32mc:\\Users\\gramp\\anaconda3\\envs\\cuda-env\\share\\jupyter\\nbconvert\\templates\\base\\null.j2:12\u001b[0m, in \u001b[0;36mroot\u001b[1;34m(context, missing, environment)\u001b[0m\n\u001b[0;32m     10\u001b[0m Subtemplates can override blocks to define their custom representation.\n\u001b[0;32m     11\u001b[0m \n\u001b[1;32m---> 12\u001b[0m If one of the block you do overwrite is not a leaf block, consider\n\u001b[0;32m     13\u001b[0m calling super.\n\u001b[0;32m     14\u001b[0m \n",
      "File \u001b[1;32mc:\\Users\\gramp\\anaconda3\\envs\\cuda-env\\share\\jupyter\\nbconvert\\templates\\base\\null.j2:33\u001b[0m, in \u001b[0;36mblock_body\u001b[1;34m(context, missing, environment)\u001b[0m\n\u001b[0;32m     31\u001b[0m {%- block any_cell scoped -%}\n\u001b[0;32m     32\u001b[0m     {%- if cell.cell_type == 'code'-%}\n\u001b[1;32m---> 33\u001b[0m         {%- if resources.global_content_filter.include_code -%}\n\u001b[0;32m     34\u001b[0m         {%- block codecell scoped -%}\n\u001b[0;32m     35\u001b[0m             {%- if resources.global_content_filter.include_input and not cell.metadata.get(\"transient\",{}).get(\"remove_source\", false) -%}\n",
      "File \u001b[1;32mc:\\Users\\gramp\\anaconda3\\envs\\cuda-env\\share\\jupyter\\nbconvert\\templates\\base\\null.j2:58\u001b[0m, in \u001b[0;36mblock_body_loop\u001b[1;34m(context, missing, environment)\u001b[0m\n\u001b[0;32m     56\u001b[0m     {%- block stream_stdout scoped -%}\n\u001b[0;32m     57\u001b[0m     {%- endblock stream_stdout -%}\n\u001b[1;32m---> 58\u001b[0m {%- elif output.name == 'stderr' -%}\n\u001b[0;32m     59\u001b[0m     {%- block stream_stderr scoped -%}\n\u001b[0;32m     60\u001b[0m     {%- endblock stream_stderr -%}\n",
      "File \u001b[1;32mc:\\Users\\gramp\\anaconda3\\envs\\cuda-env\\share\\jupyter\\nbconvert\\templates\\base\\null.j2:80\u001b[0m, in \u001b[0;36mblock_any_cell\u001b[1;34m(context, missing, environment)\u001b[0m\n\u001b[0;32m     78\u001b[0m                 {%- endblock output -%}\n\u001b[0;32m     79\u001b[0m             {%- endfor -%}\n\u001b[1;32m---> 80\u001b[0m         {%- endblock outputs -%}\n\u001b[0;32m     81\u001b[0m     {%- endblock output_group -%}\n\u001b[0;32m     82\u001b[0m {%- endif -%}\n",
      "File \u001b[1;32mc:\\Users\\gramp\\anaconda3\\envs\\cuda-env\\share\\jupyter\\nbconvert\\templates\\lab\\base.html.j2:290\u001b[0m, in \u001b[0;36mblock_markdowncell\u001b[1;34m(context, missing, environment)\u001b[0m\n\u001b[0;32m    288\u001b[0m </div>\n\u001b[0;32m    289\u001b[0m {%- endblock -%}\n\u001b[1;32m--> 290\u001b[0m \n\u001b[0;32m    291\u001b[0m {#\n\u001b[0;32m    292\u001b[0m  ###############################################################################\n",
      "File \u001b[1;32mc:\\Users\\gramp\\anaconda3\\envs\\cuda-env\\lib\\site-packages\\nbconvert\\exporters\\html.py:243\u001b[0m, in \u001b[0;36mHTMLExporter.markdown2html\u001b[1;34m(self, context, source)\u001b[0m\n\u001b[0;32m    233\u001b[0m path \u001b[38;5;241m=\u001b[39m context\u001b[38;5;241m.\u001b[39mget(\u001b[38;5;124m\"\u001b[39m\u001b[38;5;124mresources\u001b[39m\u001b[38;5;124m\"\u001b[39m, {})\u001b[38;5;241m.\u001b[39mget(\u001b[38;5;124m\"\u001b[39m\u001b[38;5;124mmetadata\u001b[39m\u001b[38;5;124m\"\u001b[39m, {})\u001b[38;5;241m.\u001b[39mget(\u001b[38;5;124m\"\u001b[39m\u001b[38;5;124mpath\u001b[39m\u001b[38;5;124m\"\u001b[39m, \u001b[38;5;124m\"\u001b[39m\u001b[38;5;124m\"\u001b[39m)\n\u001b[0;32m    235\u001b[0m renderer \u001b[38;5;241m=\u001b[39m IPythonRenderer(\n\u001b[0;32m    236\u001b[0m     escape\u001b[38;5;241m=\u001b[39m\u001b[38;5;28;01mFalse\u001b[39;00m,\n\u001b[0;32m    237\u001b[0m     attachments\u001b[38;5;241m=\u001b[39mattachments,\n\u001b[1;32m   (...)\u001b[0m\n\u001b[0;32m    241\u001b[0m     exclude_anchor_links\u001b[38;5;241m=\u001b[39m\u001b[38;5;28mself\u001b[39m\u001b[38;5;241m.\u001b[39mexclude_anchor_links,\n\u001b[0;32m    242\u001b[0m )\n\u001b[1;32m--> 243\u001b[0m \u001b[38;5;28;01mreturn\u001b[39;00m \u001b[43mMarkdownWithMath\u001b[49m\u001b[43m(\u001b[49m\u001b[43mrenderer\u001b[49m\u001b[38;5;241;43m=\u001b[39;49m\u001b[43mrenderer\u001b[49m\u001b[43m)\u001b[49m\u001b[38;5;241;43m.\u001b[39;49m\u001b[43mrender\u001b[49m\u001b[43m(\u001b[49m\u001b[43msource\u001b[49m\u001b[43m)\u001b[49m\n",
      "File \u001b[1;32mc:\\Users\\gramp\\anaconda3\\envs\\cuda-env\\lib\\site-packages\\nbconvert\\filters\\markdown_mistune.py:484\u001b[0m, in \u001b[0;36mMarkdownWithMath.render\u001b[1;34m(self, source)\u001b[0m\n\u001b[0;32m    482\u001b[0m \u001b[38;5;28;01mdef\u001b[39;00m \u001b[38;5;21mrender\u001b[39m(\u001b[38;5;28mself\u001b[39m, source: \u001b[38;5;28mstr\u001b[39m) \u001b[38;5;241m-\u001b[39m\u001b[38;5;241m>\u001b[39m \u001b[38;5;28mstr\u001b[39m:\n\u001b[0;32m    483\u001b[0m \u001b[38;5;250m    \u001b[39m\u001b[38;5;124;03m\"\"\"Render the HTML output for a Markdown source.\"\"\"\u001b[39;00m\n\u001b[1;32m--> 484\u001b[0m     \u001b[38;5;28;01mreturn\u001b[39;00m \u001b[38;5;28mstr\u001b[39m(\u001b[38;5;28;43msuper\u001b[39;49m\u001b[43m(\u001b[49m\u001b[43m)\u001b[49m\u001b[38;5;241;43m.\u001b[39;49m\u001b[38;5;21;43m__call__\u001b[39;49m\u001b[43m(\u001b[49m\u001b[43msource\u001b[49m\u001b[43m)\u001b[49m)\n",
      "File \u001b[1;32mc:\\Users\\gramp\\anaconda3\\envs\\cuda-env\\lib\\site-packages\\mistune\\markdown.py:110\u001b[0m, in \u001b[0;36mMarkdown.__call__\u001b[1;34m(self, s)\u001b[0m\n\u001b[0;32m    108\u001b[0m \u001b[38;5;28;01mif\u001b[39;00m s \u001b[38;5;129;01mis\u001b[39;00m \u001b[38;5;28;01mNone\u001b[39;00m:\n\u001b[0;32m    109\u001b[0m     s \u001b[38;5;241m=\u001b[39m \u001b[38;5;124m'\u001b[39m\u001b[38;5;130;01m\\n\u001b[39;00m\u001b[38;5;124m'\u001b[39m\n\u001b[1;32m--> 110\u001b[0m \u001b[38;5;28;01mreturn\u001b[39;00m \u001b[38;5;28;43mself\u001b[39;49m\u001b[38;5;241;43m.\u001b[39;49m\u001b[43mparse\u001b[49m\u001b[43m(\u001b[49m\u001b[43ms\u001b[49m\u001b[43m)\u001b[49m[\u001b[38;5;241m0\u001b[39m]\n",
      "File \u001b[1;32mc:\\Users\\gramp\\anaconda3\\envs\\cuda-env\\lib\\site-packages\\mistune\\markdown.py:85\u001b[0m, in \u001b[0;36mMarkdown.parse\u001b[1;34m(self, s, state)\u001b[0m\n\u001b[0;32m     82\u001b[0m \u001b[38;5;28;01mfor\u001b[39;00m hook \u001b[38;5;129;01min\u001b[39;00m \u001b[38;5;28mself\u001b[39m\u001b[38;5;241m.\u001b[39mbefore_parse_hooks:\n\u001b[0;32m     83\u001b[0m     hook(\u001b[38;5;28mself\u001b[39m, state)\n\u001b[1;32m---> 85\u001b[0m \u001b[38;5;28;43mself\u001b[39;49m\u001b[38;5;241;43m.\u001b[39;49m\u001b[43mblock\u001b[49m\u001b[38;5;241;43m.\u001b[39;49m\u001b[43mparse\u001b[49m\u001b[43m(\u001b[49m\u001b[43mstate\u001b[49m\u001b[43m)\u001b[49m\n\u001b[0;32m     87\u001b[0m \u001b[38;5;28;01mfor\u001b[39;00m hook \u001b[38;5;129;01min\u001b[39;00m \u001b[38;5;28mself\u001b[39m\u001b[38;5;241m.\u001b[39mbefore_render_hooks:\n\u001b[0;32m     88\u001b[0m     hook(\u001b[38;5;28mself\u001b[39m, state)\n",
      "File \u001b[1;32mc:\\Users\\gramp\\anaconda3\\envs\\cuda-env\\lib\\site-packages\\mistune\\block_parser.py:446\u001b[0m, in \u001b[0;36mBlockParser.parse\u001b[1;34m(self, state, rules)\u001b[0m\n\u001b[0;32m    443\u001b[0m     state\u001b[38;5;241m.\u001b[39madd_paragraph(text)\n\u001b[0;32m    444\u001b[0m     state\u001b[38;5;241m.\u001b[39mcursor \u001b[38;5;241m=\u001b[39m end_pos\n\u001b[1;32m--> 446\u001b[0m end_pos \u001b[38;5;241m=\u001b[39m \u001b[38;5;28;43mself\u001b[39;49m\u001b[38;5;241;43m.\u001b[39;49m\u001b[43mparse_method\u001b[49m\u001b[43m(\u001b[49m\u001b[43mm\u001b[49m\u001b[43m,\u001b[49m\u001b[43m \u001b[49m\u001b[43mstate\u001b[49m\u001b[43m)\u001b[49m\n\u001b[0;32m    447\u001b[0m \u001b[38;5;28;01mif\u001b[39;00m end_pos:\n\u001b[0;32m    448\u001b[0m     state\u001b[38;5;241m.\u001b[39mcursor \u001b[38;5;241m=\u001b[39m end_pos\n",
      "File \u001b[1;32mc:\\Users\\gramp\\anaconda3\\envs\\cuda-env\\lib\\site-packages\\mistune\\core.py:168\u001b[0m, in \u001b[0;36mParser.parse_method\u001b[1;34m(self, m, state)\u001b[0m\n\u001b[0;32m    166\u001b[0m \u001b[38;5;28;01mdef\u001b[39;00m \u001b[38;5;21mparse_method\u001b[39m(\u001b[38;5;28mself\u001b[39m, m, state):\n\u001b[0;32m    167\u001b[0m     func \u001b[38;5;241m=\u001b[39m \u001b[38;5;28mself\u001b[39m\u001b[38;5;241m.\u001b[39m_methods[m\u001b[38;5;241m.\u001b[39mlastgroup]\n\u001b[1;32m--> 168\u001b[0m     \u001b[38;5;28;01mreturn\u001b[39;00m \u001b[43mfunc\u001b[49m\u001b[43m(\u001b[49m\u001b[43mm\u001b[49m\u001b[43m,\u001b[49m\u001b[43m \u001b[49m\u001b[43mstate\u001b[49m\u001b[43m)\u001b[49m\n",
      "File \u001b[1;32mc:\\Users\\gramp\\anaconda3\\envs\\cuda-env\\lib\\site-packages\\mistune\\block_parser.py:418\u001b[0m, in \u001b[0;36mBlockParser.parse_raw_html\u001b[1;34m(self, m, state)\u001b[0m\n\u001b[0;32m    416\u001b[0m     \u001b[38;5;66;03m# rule 6\u001b[39;00m\n\u001b[0;32m    417\u001b[0m     \u001b[38;5;28;01mif\u001b[39;00m open_tag \u001b[38;5;129;01min\u001b[39;00m BLOCK_TAGS:\n\u001b[1;32m--> 418\u001b[0m         \u001b[38;5;28;01mreturn\u001b[39;00m \u001b[43m_parse_html_to_newline\u001b[49m\u001b[43m(\u001b[49m\u001b[43mstate\u001b[49m\u001b[43m,\u001b[49m\u001b[43m \u001b[49m\u001b[38;5;28;43mself\u001b[39;49m\u001b[38;5;241;43m.\u001b[39;49m\u001b[43mBLANK_LINE\u001b[49m\u001b[43m)\u001b[49m\n\u001b[0;32m    420\u001b[0m \u001b[38;5;66;03m# Blocks of type 7 may not interrupt a paragraph.\u001b[39;00m\n\u001b[0;32m    421\u001b[0m end_pos \u001b[38;5;241m=\u001b[39m state\u001b[38;5;241m.\u001b[39mappend_paragraph()\n",
      "File \u001b[1;32mc:\\Users\\gramp\\anaconda3\\envs\\cuda-env\\lib\\site-packages\\mistune\\block_parser.py:478\u001b[0m, in \u001b[0;36m_parse_html_to_newline\u001b[1;34m(state, newline)\u001b[0m\n\u001b[0;32m    476\u001b[0m \u001b[38;5;28;01mdef\u001b[39;00m \u001b[38;5;21m_parse_html_to_newline\u001b[39m(state, newline):\n\u001b[0;32m    477\u001b[0m     m \u001b[38;5;241m=\u001b[39m newline\u001b[38;5;241m.\u001b[39msearch(state\u001b[38;5;241m.\u001b[39msrc, state\u001b[38;5;241m.\u001b[39mcursor)\n\u001b[1;32m--> 478\u001b[0m     \u001b[38;5;28;01mif\u001b[39;00m m:\n\u001b[0;32m    479\u001b[0m         end_pos \u001b[38;5;241m=\u001b[39m m\u001b[38;5;241m.\u001b[39mstart()\n\u001b[0;32m    480\u001b[0m         text \u001b[38;5;241m=\u001b[39m state\u001b[38;5;241m.\u001b[39mget_text(end_pos)\n",
      "\u001b[1;31mKeyboardInterrupt\u001b[0m: "
     ]
    }
   ],
   "source": [
    "c.convert_files()"
   ]
  },
  {
   "cell_type": "markdown",
   "metadata": {},
   "source": [
    "## Sending emails\n",
    "Replace the values at the top of the box below with valid values. Then run. Might be worth a run with `test_mode = true` to see what students will see when they get a message."
   ]
  },
  {
   "cell_type": "code",
   "execution_count": null,
   "metadata": {},
   "outputs": [
    {
     "ename": "AssertionError",
     "evalue": "Fill in the assessment name. (ASSIGNMENT_NR)",
     "output_type": "error",
     "traceback": [
      "\u001b[1;31m---------------------------------------------------------------------------\u001b[0m",
      "\u001b[1;31mAssertionError\u001b[0m                            Traceback (most recent call last)",
      "Cell \u001b[1;32mIn[18], line 9\u001b[0m\n\u001b[0;32m      6\u001b[0m TA_NAME \u001b[38;5;241m=\u001b[39m \u001b[38;5;124m\"\u001b[39m\u001b[38;5;124mTA NAME\u001b[39m\u001b[38;5;124m\"\u001b[39m                 \u001b[38;5;66;03m# Eg. John Doe\u001b[39;00m\n\u001b[0;32m      7\u001b[0m ASSIGNMENT_NR \u001b[38;5;241m=\u001b[39m \u001b[38;5;124m\"\u001b[39m\u001b[38;5;124mASSIGNMENT NR\u001b[39m\u001b[38;5;124m\"\u001b[39m     \u001b[38;5;66;03m# Eg. Assignment 1, Midterm Exam, etc.\u001b[39;00m\n\u001b[1;32m----> 9\u001b[0m ta \u001b[38;5;241m=\u001b[39m \u001b[43mTA\u001b[49m\u001b[43m(\u001b[49m\u001b[43mTA_EMAIL\u001b[49m\u001b[43m,\u001b[49m\u001b[43m \u001b[49m\u001b[43mTA_PASSWORD\u001b[49m\u001b[43m,\u001b[49m\u001b[43m \u001b[49m\u001b[43mASSIGNMENT_NR\u001b[49m\u001b[43m)\u001b[49m\n\u001b[0;32m     12\u001b[0m message \u001b[38;5;241m=\u001b[39m \u001b[38;5;124mf\u001b[39m\u001b[38;5;124m'''\u001b[39m\u001b[38;5;124mDear student,\u001b[39m\n\u001b[0;32m     13\u001b[0m \n\u001b[0;32m     14\u001b[0m \u001b[38;5;124mPlease find attached your graded \u001b[39m\u001b[38;5;132;01m{\u001b[39;00mASSIGNMENT_NR\u001b[38;5;132;01m}\u001b[39;00m\u001b[38;5;124m with appropriate feedback. Details about the inspection hour will follow soon. In case you have questions, please contact your TA. All responses to this email will be ignored.\u001b[39m\n\u001b[0;32m     15\u001b[0m \n\u001b[0;32m     16\u001b[0m \u001b[38;5;124mKind regards and have a great day,\u001b[39m\n\u001b[0;32m     17\u001b[0m \u001b[38;5;132;01m{\u001b[39;00mTA_NAME\u001b[38;5;132;01m}\u001b[39;00m\u001b[38;5;124m'''\u001b[39m\n\u001b[0;32m     19\u001b[0m \u001b[38;5;66;03m# when true, only sends one email to the TA\u001b[39;00m\n",
      "Cell \u001b[1;32mIn[16], line 11\u001b[0m, in \u001b[0;36mTA.__init__\u001b[1;34m(self, email_address, password, assessment)\u001b[0m\n\u001b[0;32m      9\u001b[0m \u001b[38;5;28;01mdef\u001b[39;00m \u001b[38;5;21m__init__\u001b[39m(\u001b[38;5;28mself\u001b[39m, email_address: \u001b[38;5;28mstr\u001b[39m, password: \u001b[38;5;28mstr\u001b[39m, assessment: \u001b[38;5;28mstr\u001b[39m):\n\u001b[0;32m     10\u001b[0m     \u001b[38;5;28;01massert\u001b[39;00m(email_address \u001b[38;5;241m!=\u001b[39m \u001b[38;5;124m\"\u001b[39m\u001b[38;5;124mEMAIL\u001b[39m\u001b[38;5;124m\"\u001b[39m \u001b[38;5;129;01mand\u001b[39;00m password \u001b[38;5;241m!=\u001b[39m \u001b[38;5;124m\"\u001b[39m\u001b[38;5;124mPASSWORD\u001b[39m\u001b[38;5;124m\"\u001b[39m), \u001b[38;5;124m\"\u001b[39m\u001b[38;5;124mDude... really? Fill in the email and password.\u001b[39m\u001b[38;5;124m\"\u001b[39m\n\u001b[1;32m---> 11\u001b[0m     \u001b[38;5;28;01massert\u001b[39;00m(assessment \u001b[38;5;241m!=\u001b[39m \u001b[38;5;124m\"\u001b[39m\u001b[38;5;124mASSIGNMENT NR\u001b[39m\u001b[38;5;124m\"\u001b[39m), \u001b[38;5;124m\"\u001b[39m\u001b[38;5;124mFill in the assessment name. (ASSIGNMENT_NR)\u001b[39m\u001b[38;5;124m\"\u001b[39m\n\u001b[0;32m     12\u001b[0m     \u001b[38;5;28mself\u001b[39m\u001b[38;5;241m.\u001b[39memail_address \u001b[38;5;241m=\u001b[39m email_address\n\u001b[0;32m     13\u001b[0m     \u001b[38;5;28mself\u001b[39m\u001b[38;5;241m.\u001b[39mpassword \u001b[38;5;241m=\u001b[39m password\n",
      "\u001b[1;31mAssertionError\u001b[0m: Fill in the assessment name. (ASSIGNMENT_NR)"
     ]
    }
   ],
   "source": [
    "# Email login details\n",
    "TA_EMAIL = \"EMAIL\"\n",
    "TA_PASSWORD = \"PASSWORD\"\n",
    "\n",
    "# For formatting email message content\n",
    "TA_NAME = \"TA NAME\"                 # Eg. John Doe\n",
    "ASSIGNMENT_NR = \"ASSIGNMENT NR\"     # Eg. Assignment 1, Midterm Exam, etc.\n",
    "\n",
    "ta = TA(TA_EMAIL, TA_PASSWORD, ASSIGNMENT_NR)\n",
    "assert(TA_NAME != \"TA NAME\"), \"TA NAME should probably be filled\"\n",
    "\n",
    "\n",
    "# Email message content\n",
    "message = f'''Dear student,\n",
    "\n",
    "Please find attached your graded {ASSIGNMENT_NR} with appropriate feedback. Details about the inspection hour will follow soon. In case you have questions, please contact your TA. All responses to this email will be ignored.\n",
    "\n",
    "Kind regards and have a great day,\n",
    "{TA_NAME}'''\n",
    "\n",
    "\n",
    "# when true, only sends one email to the TA\n",
    "TEST_MODE = True\n",
    "\n",
    "# when not None, skips ahead in the list of students to this vunet id, then continues as normal\n",
    "# This is mostly legacy from when sending emails would crash occasionally. Still useful for testing.\n",
    "GO_TO_VUNET_ID = None \n",
    "\n",
    "c.send_emails(ta, message, test_mode=True)"
   ]
  },
  {
   "cell_type": "markdown",
   "metadata": {},
   "source": [
    "### Make sure to check these files.\n",
    "These students gave an invalid vunet id or didn't change it from the default."
   ]
  },
  {
   "cell_type": "code",
   "execution_count": null,
   "metadata": {},
   "outputs": [],
   "source": [
    "invalid_students = c.invalid_students\n",
    "\n",
    "print(\"Dirs to check:\")\n",
    "for student in invalid_students:\n",
    "    print(f\"File:   {os.path.basename(student.ipynb_file)}\")\n",
    "    print(f\"In Dir: {student.parent_folder}\")\n",
    "\n",
    "    print(\"\\n\")"
   ]
  },
  {
   "cell_type": "markdown",
   "metadata": {},
   "source": [
    "# Running into issues?\n",
    "Contact me at t.j.but@student.vu.nl or grampachampa@gmail.com."
   ]
  }
 ],
 "metadata": {
  "kernelspec": {
   "display_name": "cuda-env",
   "language": "python",
   "name": "python3"
  },
  "language_info": {
   "codemirror_mode": {
    "name": "ipython",
    "version": 3
   },
   "file_extension": ".py",
   "mimetype": "text/x-python",
   "name": "python",
   "nbconvert_exporter": "python",
   "pygments_lexer": "ipython3",
   "version": "3.10.13"
  }
 },
 "nbformat": 4,
 "nbformat_minor": 2
}
