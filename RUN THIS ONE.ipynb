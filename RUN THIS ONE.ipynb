{
 "cells": [
  {
   "cell_type": "markdown",
   "metadata": {},
   "source": [
    "# How to Run?\n",
    "\n",
    "Easy! Run the cells one by one, and read any instructions as you go along.\n",
    "All you have to do is ensure that:\n",
    "a) The number of students matches up with the number of students that the script finds.\n",
    "b) Your E-Mail and Message details are filled out in the relevant cell."
   ]
  },
  {
   "cell_type": "markdown",
   "metadata": {},
   "source": [
    "### Prerequisites\n",
    "You'll need nbconvert if you don't have it."
   ]
  },
  {
   "cell_type": "code",
   "execution_count": null,
   "metadata": {},
   "outputs": [],
   "source": [
    "! pip install nbconvert\n"
   ]
  },
  {
   "cell_type": "markdown",
   "metadata": {},
   "source": [
    "### Imports\n",
    "All of these outside nbconvert/nbformat should come with your installation of python. If not, it's a good idea to pip install them. "
   ]
  },
  {
   "cell_type": "code",
   "execution_count": null,
   "metadata": {},
   "outputs": [],
   "source": [
    "import os\n",
    "import re\n",
    "import codecs\n",
    "import smtplib\n",
    "import nbformat\n",
    "from nbconvert import HTMLExporter\n",
    "from email import encoders\n",
    "from email.mime.base import MIMEBase\n",
    "from email.mime.text import MIMEText\n",
    "from email.mime.multipart import MIMEMultipart"
   ]
  },
  {
   "cell_type": "markdown",
   "metadata": {},
   "source": [
    "# Code\n",
    "Student Class"
   ]
  },
  {
   "cell_type": "code",
   "execution_count": null,
   "metadata": {},
   "outputs": [],
   "source": [
    "class Student:\n",
    "    \"\"\"A class to represent a student.\n",
    "    \n",
    "    Attributes:\n",
    "    vunet_id (str): The vunet id of the student.\n",
    "    ipynb_file (str): The path to the student's ipynb file.\n",
    "    converted_file (str): The path to the student's converted file.\n",
    "    parent_folder (str): The parent folder of the student's ipynb file.\n",
    "    email_address (str): The email address of the student.\n",
    "    \"\"\"\n",
    "    def __init__(self, vunet_id: str, ipynb_file: str = None, converted_file: str = None) -> None:\n",
    "        \"\"\"Initializes a student object.\n",
    "        \n",
    "        Args:\n",
    "        vunet_id (str): The vunet id of the student.\n",
    "        ipynb_file (str): The path to the student's ipynb file.\n",
    "        converted_file (str): The path to the student's converted file.\n",
    "        \"\"\"\n",
    "        \n",
    "        self.vunet_id = vunet_id\n",
    "        self.ipynb_file = ipynb_file\n",
    "        self.converted_file = converted_file\n",
    "        self.parent_folder = os.path.dirname(self.ipynb_file) if self.ipynb_file else None\n",
    "\n",
    "        # Turns out, you don't need to scavenge the student vu email\n",
    "        # you can just use the vunet id, and it's treated the same\n",
    "        self.email_address = self.vunet_id + \"@student.vu.nl\" if self.vunet_id else None\n",
    "\n",
    "    def __eq__ (self, other) -> bool:\n",
    "        return self.vunet_id == other.vunet_id\n",
    "    \n",
    "    def __repr__(self) -> str:\n",
    "        return self.vunet_id"
   ]
  },
  {
   "cell_type": "markdown",
   "metadata": {},
   "source": [
    "Yes, this is a class without methods. Peak OOP."
   ]
  },
  {
   "cell_type": "code",
   "execution_count": null,
   "metadata": {},
   "outputs": [],
   "source": [
    "class TA:\n",
    "    \"\"\"Defines info stored about the person sending the emails.\n",
    "    \n",
    "    Attributes:\n",
    "    email_address (str): The email address of the TA.\n",
    "    password (str): The password of the TA.\n",
    "    assessment (str): The name of the assessment (e.g. \"Midterm Exam\" or \"Assignment 1\").\n",
    "    \"\"\"\n",
    "    def __init__(self, email_address: str, password: str, assessment: str):\n",
    "        assert(email_address != \"EMAIL\" and password != \"PASSWORD\"), \"Dude... really? Fill in the email and password.\"\n",
    "        \n",
    "        self.email_address = email_address\n",
    "        self.password = password\n",
    "        self.assessment = assessment"
   ]
  },
  {
   "cell_type": "markdown",
   "metadata": {},
   "source": [
    "Main workhorse code. I've tried to actually make it readable in this iteration, but most methods still need docstrings and all that jazz."
   ]
  },
  {
   "cell_type": "code",
   "execution_count": null,
   "metadata": {},
   "outputs": [],
   "source": [
    "class Converter:\n",
    "    \"\"\"A class to convert ipynb files to HTML files and send them to students.\n",
    "\n",
    "    ASSUMPTIONS:\n",
    "    - The vunet id is the first occurence of a 3-letter word followed by a 3-digit number.\n",
    "    - The vunet id is unique.\n",
    "    - All files are stored in either:\n",
    "        - The parent directory of the current working directory (i.e. the folder this file is in)\n",
    "        - A subdirectory the parent directory that is not this folder.\n",
    "    \n",
    "    Attributes:\n",
    "    vunet_finding_mode (str): The mode used to find vunet ids. Currently only \"SCRAPE\" is supported.\n",
    "    dir_path (str): The path to the directory containing the ipynb files. if not specified, the parent dir of the current working directory is used.\n",
    "    valid_students (list[Student]): A list of students with valid vunet ids.\n",
    "    invalid_students (list[Student]): A list of students with invalid vunet ids.\n",
    "    \"\"\"\n",
    "    \n",
    "    # Constants\n",
    "    BANNED_FOLDERS = [\"__pycache__\", \".ipynb_checkpoints\", \"ipynb-to-html-converter\"]\n",
    "    BANNED_VUNET_IDS = [\"abc123\"]  \n",
    "    \n",
    "    def __init__(self, id_mode: str, dir_path: str = os.path.dirname(os.getcwd())):\n",
    "        \"\"\"Initializes a Converter object.\n",
    "\n",
    "        Args:\n",
    "            id_mode (str): The mode used to find vunet ids. Currently only \"SCRAPE\" is supported.\n",
    "            dir_path (str, optional): Dir containing the files. Defaults to os.path.dirname(os.getcwd()).\n",
    "        \"\"\"\n",
    "        assert id_mode in [\"SCRAPE\"]\n",
    "        assert os.path.isdir(dir_path)\n",
    "        \n",
    "        self.vunet_finding_mode = id_mode\n",
    "        self.dir_path = dir_path\n",
    "        self.valid_students: list[Student] = []\n",
    "        self.invalid_students: list[Student] = []\n",
    "        \n",
    "    def parse_files(self) -> None:\n",
    "        \"\"\"Parses the files in the directory to find vunet ids. Modifies the valid_students and invalid_students lists.\n",
    "        \n",
    "        3 steps:\n",
    "        1. Clear the students lists.\n",
    "        2. Get the list of directories to parse (i.e. parent of this folder, and all direct children of it, excluding this folder).\n",
    "        3. If any of these has an ipynb file, a student is added for said file. \n",
    "            If it has a valid VUnet, the student gets added to valid_students.      (Student object with vunet_id, ipynb_file, email, and parent_folder)\n",
    "            If it has an invalid VUnet, the student gets added to invalid_students. (Student object with ipynb_file and parent_folder)\n",
    "        \"\"\"\n",
    "        self.__clear_students()\n",
    "        dirs = self.__get_dirs_to_parse()\n",
    "        self.__find_vunet_ids(dirs)\n",
    "        \n",
    "    def convert_files(self) -> None:\n",
    "        \"\"\"For each student, converts the ipynb file to an HTML file. Modifies the converted_file attribute of each student.\"\"\"\n",
    "        all_students = self.valid_students + self.invalid_students\n",
    "        total_students = len(all_students)\n",
    "        print(f\"Converting {total_students} files to HTML\")\n",
    "        for i, student in enumerate(all_students):\n",
    "            self.__convert_ipynb_to_html(student)\n",
    "            self.__visualize_progress(i+1, total_students)\n",
    "    \n",
    "    def send_emails(self, ta: TA, message: str, test_mode: bool = False, go_to_vunet_id: str = None) -> None:\n",
    "        \"\"\"Sends emails to the students with the converted files attached. Modifies nothing.\"\"\"\n",
    "        for i, student in enumerate(self.valid_students):\n",
    "            if go_to_vunet_id and student.vunet_id != go_to_vunet_id:\n",
    "                continue\n",
    "            self.__send_email(ta, message, student, test_mode)\n",
    "            \n",
    "            if test_mode:\n",
    "                break\n",
    "            \n",
    "            self.__visualize_progress(i+1, len(self.valid_students))\n",
    "    \n",
    "    def __send_email(self, ta: TA, message: str, student: Student, test_mode: bool = False):\n",
    "        to_address = student.email_address if not test_mode else ta.email_address\n",
    "        mail = MIMEMultipart()\n",
    "\n",
    "        mail[\"From\"] = ta.email_address\n",
    "        mail[\"To\"] = to_address\n",
    "        mail[\"Cc\"] = ta.email_address\n",
    "        \n",
    "        mail[\"Subject\"] = f'{ta.assessment} Feedback and Results'\n",
    "        mail.attach(MIMEText(message, 'plain'))\n",
    "        \n",
    "        with open(student.converted_file, 'rb') as f:\n",
    "            attachment = f.read()\n",
    "            part = MIMEBase('application', \"octet-stream\")\n",
    "            part.set_payload(attachment)\n",
    "            encoders.encode_base64(part)\n",
    "            part.add_header('Content-Disposition', \"attachment; filename= %s\" % os.path.basename(student.converted_file))\n",
    "            mail.attach(part)\n",
    "        \n",
    "        server = smtplib.SMTP(\"mails.vu.nl\", port=587)\n",
    "        server.ehlo()\n",
    "        server.starttls()\n",
    "        server.ehlo()\n",
    "        server.login(ta.email_address, ta.password)\n",
    "        server.send_message(mail)\n",
    "        server.quit()\n",
    "    \n",
    "    def __clear_students(self):\n",
    "        self.valid_students = []\n",
    "        self.invalid_students = []\n",
    "    \n",
    "    def __convert_ipynb_to_html(self, student: Student):\n",
    "        if self.__check_if_notebook_exists(student):\n",
    "            return\n",
    "        \n",
    "        with open(student.ipynb_file) as f:\n",
    "            nb = nbformat.read(f, as_version=4)\n",
    "\n",
    "        # Convert the notebook to HTML\n",
    "        html_exporter = HTMLExporter()\n",
    "        body, _ = html_exporter.from_notebook_node(nb)\n",
    "\n",
    "        # Write the HTML to a file\n",
    "        html_file_name = student.vunet_id + \".html\" if student.vunet_id else self.__get_expected_html_file_path(student)\n",
    "        html_file_path = os.path.join(student.parent_folder, html_file_name)\n",
    "        with open(html_file_path, 'w') as f:\n",
    "            f.write(body)\n",
    "    \n",
    "    def __check_if_notebook_exists(self, student: Student) -> bool:\n",
    "        expected_file_path = self.__get_expected_html_file_path(student)\n",
    "        if student.vunet_id:\n",
    "            ex_dir = os.path.dirname(student.ipynb_file)\n",
    "            expected_filename = student.vunet_id + \".html\"\n",
    "            expected_file_path = os.path.join(ex_dir, expected_filename)\n",
    "        \n",
    "        if os.path.exists(expected_file_path):\n",
    "            student.converted_file = expected_file_path\n",
    "            return True\n",
    "        return False\n",
    "            \n",
    "    def __get_expected_html_file_path(self, student: Student):\n",
    "        return (student.ipynb_file.removesuffix(\".ipynb\")) + \".html\"\n",
    "            \n",
    "        \n",
    "    def __find_vunet_ids(self, dirs: list[str]):\n",
    "\n",
    "        if self.vunet_finding_mode == \"SCRAPE\":\n",
    "            self.__find_vunet_ids_by_scrape(dirs)\n",
    "\n",
    "    def __find_vunet_ids_by_scrape(self, dirs: list[str]):\n",
    "        for subDir in dirs:\n",
    "            self.__scrape_folder(subDir)\n",
    "    \n",
    "    def __scrape_folder(self, folder: str):\n",
    "        for file in os.listdir(folder):\n",
    "            if self.__is_valid_target_file(file):\n",
    "                filepath = os.path.join(folder, file)\n",
    "                self.__scrape_vunet_id_from_file(filepath)   \n",
    "                \n",
    "    def __is_valid_target_file(self, file: str):\n",
    "        return file.endswith(\".ipynb\")\n",
    "    \n",
    "    def __scrape_vunet_id_from_file(self, file: str):\n",
    "        f = codecs.open(file.strip('\"'), 'r')\n",
    "        for line in f:\n",
    "            if \"VUnet\" in line:\n",
    "                extracted_id = re.search(r'\\b[a-zA-Z]{3}\\d{3}\\b', line)\n",
    "                if extracted_id is not None:\n",
    "                    vunet_id = extracted_id.group().lower()\n",
    "                    if vunet_id in self.BANNED_VUNET_IDS:\n",
    "                        continue\n",
    "                    \n",
    "                    student = Student(vunet_id = vunet_id, ipynb_file=file)\n",
    "                    self.valid_students.append(student)\n",
    "                    break\n",
    "        else:\n",
    "            student = Student(None, file)\n",
    "            self.invalid_students.append(student)\n",
    "                    \n",
    "    def __visualize_progress(self, current: int, total: int):\n",
    "        print(f\"Progress: {current}/{total}\", end=\"\\r\", flush=True)\n",
    "        \n",
    "    def __get_dirs_to_parse(self):\n",
    "        child_dirs : list[str] = [folder for folder in os.listdir(self.dir_path) if os.path.isdir(os.path.join(self.dir_path, folder))]\n",
    "        dirs_to_parse = [os.path.join(self.dir_path, folder) for folder in child_dirs if folder not in self.BANNED_FOLDERS]\n",
    "        dirs_to_parse = [self.dir_path] + dirs_to_parse\n",
    "        return dirs_to_parse\n",
    "        \n"
   ]
  },
  {
   "cell_type": "markdown",
   "metadata": {},
   "source": [
    "## Start Reading the Instructions Now\n",
    "\n",
    "### Parsing all students\n",
    "Make sure the total number of students is correct"
   ]
  },
  {
   "cell_type": "code",
   "execution_count": null,
   "metadata": {},
   "outputs": [],
   "source": [
    "c = Converter(id_mode = \"SCRAPE\")\n",
    "c.parse_files()\n",
    "print(f\"Found {len(c.valid_students) + len(c.invalid_students)} files, of which:\")\n",
    "print(f\"{len(c.valid_students)} are valid.\")\n",
    "print(f\"{len(c.invalid_students)} did not change their VUnet ID or gave an invalid one.\")"
   ]
  },
  {
   "cell_type": "markdown",
   "metadata": {},
   "source": [
    "### Convert .ipynb Files to .html\n",
    "You don't need to do much here other than run the file, but this will take a while"
   ]
  },
  {
   "cell_type": "code",
   "execution_count": null,
   "metadata": {},
   "outputs": [],
   "source": [
    "c.convert_files()"
   ]
  },
  {
   "cell_type": "markdown",
   "metadata": {},
   "source": [
    "## Sending emails\n",
    "Replace the values at the top of the box below with valid values. Then run. Might be worth a run with `test_mode = true` to see what students will see when they get a message."
   ]
  },
  {
   "cell_type": "code",
   "execution_count": null,
   "metadata": {},
   "outputs": [],
   "source": [
    "# Email login details\n",
    "TA_EMAIL = \"EMAIL\"\n",
    "TA_PASSWORD = \"PASSWORD\"\n",
    "\n",
    "# For formatting email message content\n",
    "TA_NAME = \"TA NAME\"                 # Eg. John Doe\n",
    "ASSIGNMENT_NR = \"ASSIGNMENT NR\"     # Eg. Assignment 1, Midterm Exam, etc.\n",
    "\n",
    "ta = TA(TA_EMAIL, TA_PASSWORD, ASSIGNMENT_NR)\n",
    "\n",
    "\n",
    "message = f'''Dear student,\n",
    "\n",
    "Please find attached your graded {ASSIGNMENT_NR} with appropriate feedback. Details about the inspection hour will follow soon. In case you have questions, please contact your TA. All responses to this email will be ignored.\n",
    "\n",
    "Kind regards and have a great day,\n",
    "{TA_NAME}'''\n",
    "\n",
    "# when true, only sends one email to the TA\n",
    "TEST_MODE = True\n",
    "\n",
    "# when not None, skips ahead in the list of students to this vunet id, then continues as normal\n",
    "# This is mostly legacy from when sending emails would crash occasionally. Still useful for testing.\n",
    "GO_TO_VUNET_ID = None \n",
    "\n",
    "\n",
    "c.send_emails(ta, message, test_mode=True)"
   ]
  },
  {
   "cell_type": "markdown",
   "metadata": {},
   "source": [
    "### Make sure to check these files.\n",
    "These students gave an invalid vunet id or didn't change it from the default."
   ]
  },
  {
   "cell_type": "code",
   "execution_count": null,
   "metadata": {},
   "outputs": [],
   "source": [
    "invalid_students = c.invalid_students\n",
    "\n",
    "print(\"Dirs to check:\")\n",
    "for student in invalid_students:\n",
    "    print(f\"File:   {os.path.basename(student.ipynb_file)}\")\n",
    "    print(f\"In Dir: {student.parent_folder}\")\n",
    "\n",
    "    print(\"\\n\")"
   ]
  },
  {
   "cell_type": "markdown",
   "metadata": {},
   "source": [
    "# Running into issues?\n",
    "Contact me at t.j.but@student.vu.nl or grampachampa@gmail.com."
   ]
  }
 ],
 "metadata": {
  "kernelspec": {
   "display_name": "cuda-env",
   "language": "python",
   "name": "python3"
  },
  "language_info": {
   "codemirror_mode": {
    "name": "ipython",
    "version": 3
   },
   "file_extension": ".py",
   "mimetype": "text/x-python",
   "name": "python",
   "nbconvert_exporter": "python",
   "pygments_lexer": "ipython3",
   "version": "3.10.13"
  }
 },
 "nbformat": 4,
 "nbformat_minor": 2
}
